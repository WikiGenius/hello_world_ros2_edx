{
 "cells": [
  {
   "cell_type": "code",
   "execution_count": 16,
   "metadata": {},
   "outputs": [],
   "source": [
    "import os\n",
    "import numpy as np\n",
    "import  yaml\n",
    "\n",
    "def load_config_file(config_file_path: str) -> dict:\n",
    "    \"\"\"Load a YAML configuration file.\n",
    "\n",
    "    Args:\n",
    "        config_file_path (str): The base name of the configuration file.\n",
    "\n",
    "    Returns:\n",
    "        dict: The loaded configuration parameters.\n",
    "    \"\"\"\n",
    "\n",
    "\n",
    "    with open(config_file_path, 'r') as config_file:\n",
    "        config_params = yaml.safe_load(config_file)\n",
    "\n",
    "    return config_params.get('robot_config', {}).get('ros__parameters', {})"
   ]
  },
  {
   "cell_type": "markdown",
   "metadata": {},
   "source": [
    "## Tranformation odom to map"
   ]
  },
  {
   "cell_type": "code",
   "execution_count": 17,
   "metadata": {},
   "outputs": [
    {
     "name": "stdout",
     "output_type": "stream",
     "text": [
      "[[1.  0.  0.  4. ]\n",
      " [0.  1.  0.  0.2]\n",
      " [0.  0.  1.  0. ]\n",
      " [0.  0.  0.  1. ]]\n"
     ]
    }
   ],
   "source": [
    "# tranformation odom to map\n",
    "T_mo = np.array(\n",
    "    [[1, 0, 0, 4],\n",
    "    [0, 1, 0, 0.2],\n",
    "    [0, 0, 1, 0],\n",
    "    [0, 0, 0, 1]]\n",
    ")\n",
    "print(T_mo)"
   ]
  },
  {
   "cell_type": "markdown",
   "metadata": {},
   "source": [
    "## Tranformation car to odom"
   ]
  },
  {
   "cell_type": "code",
   "execution_count": 18,
   "metadata": {},
   "outputs": [
    {
     "name": "stdout",
     "output_type": "stream",
     "text": [
      "{'x': -4.0, 'y': -0.2, 'z': 0.0}\n"
     ]
    }
   ],
   "source": [
    "# tranformation car to odom\n",
    "robot_config_path =  \"/home/muhammed/Main/programming/ros2_ws/hello_world_ws/src/hello_world_ros2_edx/hrwros_week3/hrwros_gazebo/config/robot_config.yaml\"\n",
    "mobile_robot = load_config_file(robot_config_path)['robot_groups']['mobile_robot']\n",
    "print(mobile_robot)\n",
    "x = mobile_robot['x']\n",
    "y = mobile_robot['y']\n",
    "z = mobile_robot['z']"
   ]
  },
  {
   "cell_type": "code",
   "execution_count": 19,
   "metadata": {},
   "outputs": [
    {
     "name": "stdout",
     "output_type": "stream",
     "text": [
      "[[ 1.   0.   0.  -4. ]\n",
      " [ 0.   1.   0.  -0.2]\n",
      " [ 0.   0.   1.   0. ]\n",
      " [ 0.   0.   0.   1. ]]\n"
     ]
    }
   ],
   "source": [
    "T_oc = np.array(\n",
    "    [[1, 0, 0, x],\n",
    "    [0, 1, 0, y],\n",
    "    [0, 0, 1, z],\n",
    "    [0, 0, 0, 1]]\n",
    ")\n",
    "print(T_oc)"
   ]
  },
  {
   "cell_type": "markdown",
   "metadata": {},
   "source": [
    "## Tranformation car to map"
   ]
  },
  {
   "cell_type": "code",
   "execution_count": 20,
   "metadata": {},
   "outputs": [
    {
     "name": "stdout",
     "output_type": "stream",
     "text": [
      "[[1. 0. 0. 0.]\n",
      " [0. 1. 0. 0.]\n",
      " [0. 0. 1. 0.]\n",
      " [0. 0. 0. 1.]]\n"
     ]
    }
   ],
   "source": [
    "# Tranformation car to map\n",
    "T_cm = T_mo @ T_oc\n",
    "print(T_cm)"
   ]
  }
 ],
 "metadata": {
  "kernelspec": {
   "display_name": "Python 3",
   "language": "python",
   "name": "python3"
  },
  "language_info": {
   "codemirror_mode": {
    "name": "ipython",
    "version": 3
   },
   "file_extension": ".py",
   "mimetype": "text/x-python",
   "name": "python",
   "nbconvert_exporter": "python",
   "pygments_lexer": "ipython3",
   "version": "3.10.12"
  }
 },
 "nbformat": 4,
 "nbformat_minor": 2
}
